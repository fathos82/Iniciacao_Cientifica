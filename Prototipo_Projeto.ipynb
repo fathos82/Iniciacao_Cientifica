{
 "cells": [
  {
   "cell_type": "code",
   "execution_count": 7,
   "id": "9cd6443d",
   "metadata": {
    "scrolled": false
   },
   "outputs": [],
   "source": [
    "from ipywidgets import interact, interactive, fixed, interact_manual\n",
    "import ipywidgets as widgets\n",
    "import cv2\n",
    "import matplotlib.pyplot as plt\n",
    "import numpy as np\n"
   ]
  },
  {
   "cell_type": "code",
   "execution_count": 8,
   "id": "6a7e5654",
   "metadata": {},
   "outputs": [],
   "source": [
    "\n",
    "def getMaxContour(contours):\n",
    "    maxArea = 0\n",
    "    for c in contours:\n",
    "        area = cv2.contourArea(c)\n",
    "        \n",
    "        if maxArea < area:\n",
    "            maxArea = area\n",
    "            maxContour = c\n",
    "    positions = cv2.boundingRect(maxContour)\n",
    "    return maxContour , positions"
   ]
  },
  {
   "cell_type": "code",
   "execution_count": 9,
   "id": "2ef1672e",
   "metadata": {},
   "outputs": [],
   "source": [
    "def limiar(img):\n",
    "    gray = cv2.cvtColor(img,  cv2.COLOR_BGR2GRAY)\n",
    "    gaussian = cv2.GaussianBlur(gray, (3, 3), 0)\n",
    "    limiar, bin = cv2.threshold(gaussian, 0, 255, cv2.THRESH_BINARY + cv2.THRESH_OTSU)\n",
    "    \n",
    "    return bin"
   ]
  },
  {
   "cell_type": "code",
   "execution_count": 10,
   "id": "cc117ff4",
   "metadata": {},
   "outputs": [
    {
     "data": {
      "application/vnd.jupyter.widget-view+json": {
       "model_id": "960fe9afd6a44996868844dbd11277f2",
       "version_major": 2,
       "version_minor": 0
      },
      "text/plain": [
       "interactive(children=(Dropdown(description='source', options=('Tomate_01.jpg', 'Tomate_02.jpg', 'Tomate_03.jpg…"
      ]
     },
     "metadata": {},
     "output_type": "display_data"
    },
    {
     "data": {
      "text/plain": [
       "<function __main__.Process(source)>"
      ]
     },
     "execution_count": 10,
     "metadata": {},
     "output_type": "execute_result"
    }
   ],
   "source": [
    "sources = ['Tomate_01.jpg','Tomate_02.jpg','Tomate_03.jpg','Tomate_04.jpg']\n",
    "theshrold = [217, 299, 263, 255]\n",
    "lower = np.array([0, 66, 168])\n",
    "upper = np.array([14, 232, 255])\n",
    "kernel = np.ones((5, 5), np.uint8)\n",
    "\n",
    "def Process(source):\n",
    "    \n",
    "    path = 'source/'+source\n",
    "    img = cv2.imread(path)\n",
    "    b, g,r = cv2.split(img)\n",
    "    rgb_img = cv2.merge([r, g, b])\n",
    "    imgProcessed = rgb_img.copy()\n",
    "    \n",
    "    converter = img[282:282+59, 710 : 710+230]\n",
    "    binConverter = limiar(converter)\n",
    "    contoursConverter, _ = cv2.findContours(binConverter, cv2.RETR_TREE, cv2.CHAIN_APPROX_NONE)\n",
    "    _, posConverter = getMaxContour(contoursConverter)\n",
    "    \n",
    "    cv2.rectangle(converter, (posConverter[0]  , posConverter[1] ), (posConverter[0] + posConverter[2], posConverter[1] +posConverter[3]), (0, 0, 0), 2)  \n",
    "#     cv2.putText(imgProcessed, ('Referencia'), (int(posConverter[0] + posConverter[2]/2), posConverter[1]),cv2.FONT_HERSHEY_SIMPLEX, 0.4, (0, 0, 0), 1)\n",
    "\n",
    "\n",
    "    imgProcessed[282:282+59, 710 : 710+230] = converter\n",
    "\n",
    "    th = theshrold[sources.index(source)]\n",
    "\n",
    "    hsvImage = cv2.cvtColor(rgb_img, cv2.COLOR_RGB2HSV)\n",
    "    mask = cv2.inRange(hsvImage, np.array(lower), np.array(upper))\n",
    "    if sources.index(source)==0:\n",
    "        mask = cv2.dilate(mask, kernel, iterations=1)\n",
    "    contours, _ = cv2.findContours(mask, cv2.RETR_TREE, cv2.CHAIN_APPROX_NONE)\n",
    "    \n",
    "    plt.figure(figsize=(12, 9))\n",
    "    plt.imshow(rgb_img)\n",
    "\n",
    "    _, posTomate = getMaxContour(contours)\n",
    "    cv2.rectangle(imgProcessed, (posTomate[0]  , posTomate[1] ), (posTomate[0] + posTomate[2], posTomate[1] +posTomate[3]), (0, 255, 0), 2)  \n",
    "    \n",
    "    tomate = rgb_img[posTomate[1] : posTomate[1]+posTomate[3], posTomate[0]: posTomate[0]+posTomate[2]]\n",
    "    gray = cv2.cvtColor(tomate,  cv2.COLOR_RGB2GRAY )\n",
    "    gauss =  cv2.GaussianBlur(gray, (5, 5), 0)     \n",
    "    bin2 =  cv2.adaptiveThreshold(gauss ,255,cv2.ADAPTIVE_THRESH_GAUSSIAN_C, cv2.THRESH_BINARY, th,2)\n",
    "    elipseCont, _ = cv2.findContours(bin2, cv2.RETR_TREE, cv2.CHAIN_APPROX_NONE)\n",
    "    \n",
    "    cv2.putText(imgProcessed, ('Tomate'), (int(posTomate[0] + posTomate[2]/2), posTomate[1] -15),cv2.FONT_HERSHEY_SIMPLEX, 0.4, (0, 255, 0), 1)\n",
    "\n",
    "    \n",
    "    for cont in elipseCont:\n",
    "        elipseArea = cv2.contourArea(cont)\n",
    "        if (elipseArea > 900 and elipseArea < 3000):\n",
    "            pos = cv2.boundingRect(cont)\n",
    "            w = (pos[2]*22)/ posConverter[2]\n",
    "            h = (pos[3]*10)/ posConverter[3]\n",
    "            print(posConverter)\n",
    "            firmeza = (0.491)/(0.784*(w)*(h)/100) \n",
    "            cv2.rectangle(imgProcessed, (posTomate[0] + pos[0]  , posTomate[1] + pos[1]), (posTomate[0] + pos[0] + pos[2], posTomate[1] + pos[1]\n",
    "                + pos[3]), (0, 0, 0), 2) \n",
    "            \n",
    "            cv2.putText(imgProcessed, (f'Altura: {h/10:,.2f}'), (posTomate[0] + pos[0] + pos[2]+5, posTomate[1] + pos[1]+10),cv2.FONT_HERSHEY_SIMPLEX, 0.4, (0, 0, 0), 1)\n",
    "            cv2.putText(imgProcessed, (f'Largura: {w/10:,.2f}'), (posTomate[0] + pos[0] + pos[2]+5, posTomate[1] + pos[1]+20),cv2.FONT_HERSHEY_SIMPLEX, 0.4, (0, 0, 0), 1)\n",
    "            cv2.putText(imgProcessed, (f'Firmza: {firmeza:,.2f}'), (posTomate[0] + pos[0] + pos[2]+5, posTomate[1] + pos[1]+33),cv2.FONT_HERSHEY_SIMPLEX, 0.4, (0, 0, 0), 1)\n",
    "\n",
    "    plt.figure(figsize=(12, 9))\n",
    "    plt.imshow(imgProcessed)\n",
    "    plt.show()\n",
    "widgets.interact(Process, source = sources)\n",
    "\n",
    "\n",
    "\n",
    "# Aumentar Tamanho\n",
    "# Separar passos\n",
    "# Por foto tirada pelo renan"
   ]
  },
  {
   "cell_type": "code",
   "execution_count": null,
   "id": "e2308e27",
   "metadata": {},
   "outputs": [],
   "source": []
  }
 ],
 "metadata": {
  "kernelspec": {
   "display_name": "Python 3 (ipykernel)",
   "language": "python",
   "name": "python3"
  },
  "language_info": {
   "codemirror_mode": {
    "name": "ipython",
    "version": 3
   },
   "file_extension": ".py",
   "mimetype": "text/x-python",
   "name": "python",
   "nbconvert_exporter": "python",
   "pygments_lexer": "ipython3",
   "version": "3.9.13"
  }
 },
 "nbformat": 4,
 "nbformat_minor": 5
}
